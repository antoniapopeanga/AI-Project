{
  "cells": [
    {
      "cell_type": "markdown",
      "metadata": {
        "id": "aZSpfavtQfDr"
      },
      "source": [
        "# Artificial Intelligence\n",
        "## L2 International, Univ. Bordeaux"
      ]
    },
    {
      "cell_type": "markdown",
      "metadata": {
        "id": "oBjEUu5QQfDt"
      },
      "source": [
        "### Supervised Learning : Decision Trees and Visualization\n",
        "\n",
        "A decision tree is a tree structure where an internal node represents a feature, the branch represents a decision rule, and each leaf node represents the outcome.\n",
        "\n",
        "The topmost node in a decision tree is known as the root node. It learns to partition on the basis of the attribute value. It partitions the tree in recursively manner call recursive partitioning. This tree structure helps in decision making.\n",
        "\n",
        "It’s visualisation like a flowchart diagram which easily mimics the human level thinking. That is why decision trees are easy to understand and interpret."
      ]
    },
    {
      "cell_type": "markdown",
      "metadata": {
        "id": "mA6r3DDQQfDt"
      },
      "source": [
        "#### Project Description\n",
        "\n",
        "The set of these exercises will be part 1 of your project for the evaluation of this course. Make sure to add the code and analysis for each of the tasks given. Take care to write clean and commented code and to add titles, labels will displaying figures.\n",
        "For this work we will be using the a Diabetes dataset from : https://www.kaggle.com/datasets/kumargh/pimaindiansdiabetescsv/\n",
        "\n",
        "You do not have to download the csv as it is given with this files for this project.\n",
        "\n",
        "1. Similar to the previous labs the first task is to import the necessary libraries like: `matplotlib`, `pandas`, `numpy`"
      ]
    },
    {
      "cell_type": "code",
      "execution_count": 1,
      "metadata": {
        "id": "mqS2j4A4QfDu"
      },
      "outputs": [],
      "source": [
        "import matplotlib as plt\n",
        "import pandas as pd\n",
        "import numpy as np"
      ]
    },
    {
      "cell_type": "markdown",
      "metadata": {
        "id": "SFQ0cqvTQfDv"
      },
      "source": [
        "2. a. Get the description of the dataset and note down how may \"features\" i.e. columns are present in the dataset. We will not use all of them for the analysis. Give some thoughts about the type of data this is. [ANALYSIS]\n",
        "\n",
        "b. Instead extract the following columns `pregnancies`, `insulin`, `bmi`, `age`, `glucose`, `bp`, and `pedigree` for the features of our model.  [CODE]\n",
        "\n",
        "c. Identify which column would be the **label** used for the supervised learning [ANALYSIS]"
      ]
    },
    {
      "cell_type": "code",
      "execution_count": 8,
      "metadata": {
        "colab": {
          "base_uri": "https://localhost:8080/"
        },
        "id": "2Z5SWB9HQfDv",
        "outputId": "2556e638-5772-42ed-98a8-455357997aad"
      },
      "outputs": [
        {
          "output_type": "stream",
          "name": "stdout",
          "text": [
            "<class 'pandas.core.frame.DataFrame'>\n",
            "RangeIndex: 767 entries, 0 to 766\n",
            "Data columns (total 9 columns):\n",
            " #   Column            Non-Null Count  Dtype  \n",
            "---  ------            --------------  -----  \n",
            " 0   pregnancies       767 non-null    int64  \n",
            " 1   glucose           767 non-null    int64  \n",
            " 2   bp                767 non-null    int64  \n",
            " 3   skin thickness    767 non-null    int64  \n",
            " 4   insulin           767 non-null    int64  \n",
            " 5   bmi               767 non-null    float64\n",
            " 6   diabetespedigree  767 non-null    float64\n",
            " 7   age               767 non-null    int64  \n",
            " 8   diabetic          767 non-null    int64  \n",
            "dtypes: float64(2), int64(7)\n",
            "memory usage: 54.1 KB\n",
            "<class 'pandas.core.frame.DataFrame'>\n",
            "RangeIndex: 767 entries, 0 to 766\n",
            "Data columns (total 6 columns):\n",
            " #   Column            Non-Null Count  Dtype  \n",
            "---  ------            --------------  -----  \n",
            " 0   pregnancies       767 non-null    int64  \n",
            " 1   insulin           767 non-null    int64  \n",
            " 2   bmi               767 non-null    float64\n",
            " 3   glucose           767 non-null    int64  \n",
            " 4   bp                767 non-null    int64  \n",
            " 5   diabetespedigree  767 non-null    float64\n",
            "dtypes: float64(2), int64(4)\n",
            "memory usage: 36.1 KB\n"
          ]
        }
      ],
      "source": [
        "\n",
        "data=pd.read_csv(\"pima-indians-diabetes.csv\")\n",
        "df=pd.DataFrame(data)\n",
        "df.info()\n",
        "X=df[[\"pregnancies\",\"insulin\",\"bmi\",\"glucose\",\"bp\",\"diabetespedigree\"]]\n",
        "X.info()\n"
      ]
    },
    {
      "cell_type": "markdown",
      "metadata": {
        "id": "LMezL4I4QfDv"
      },
      "source": [
        "ANALYSIS\n",
        "Our dataset has 9 columns and these are attributes to predict the risc of diabetes. So our label would be the diabetic column."
      ]
    },
    {
      "cell_type": "markdown",
      "metadata": {
        "id": "lW6wS2-_QfDv"
      },
      "source": [
        "3. **Data Split**: Split the dataset you have to get 30% for test and the rest for training"
      ]
    },
    {
      "cell_type": "code",
      "execution_count": 9,
      "metadata": {
        "id": "cZdClnuiQfDv"
      },
      "outputs": [],
      "source": [
        "from sklearn.model_selection import train_test_split\n",
        "y=df[[\"diabetic\"]]\n",
        "X_train, X_test, y_train, y_test = train_test_split(X, y, test_size=0.3, random_state=1)"
      ]
    },
    {
      "cell_type": "markdown",
      "metadata": {
        "id": "pBc2-NcoQfDv"
      },
      "source": [
        "4. **Training the Model**: Use the `DecisionTreeClassifier` from `sklearn.tree` to train you decision tree"
      ]
    },
    {
      "cell_type": "code",
      "execution_count": 32,
      "metadata": {
        "id": "tavrd4etQfDw"
      },
      "outputs": [],
      "source": [
        "from sklearn.tree import DecisionTreeClassifier\n",
        "\n",
        "#reducing the size of the decision tree\n",
        "clf = DecisionTreeClassifier(max_depth=3, min_samples_split=10, min_samples_leaf=5)\n",
        "clf.fit(X_train, y_train)\n",
        "#predict using the trained classifier\n",
        "y_pred = clf.predict(X_test)"
      ]
    },
    {
      "cell_type": "markdown",
      "metadata": {
        "id": "hzXvm2TYQfDw"
      },
      "source": [
        "5. **Evaluate the Model**: Use metrics like accuracy and confusion matrix to evalute the performance of your trained model on the test set. Comment on what you can conclude from these values. Is the model good or bad?"
      ]
    },
    {
      "cell_type": "code",
      "execution_count": 33,
      "metadata": {
        "colab": {
          "base_uri": "https://localhost:8080/"
        },
        "id": "fFKyO1oIQfDw",
        "outputId": "7f539c8b-5ff7-4545-af10-7f104a0b0c8e"
      },
      "outputs": [
        {
          "output_type": "stream",
          "name": "stdout",
          "text": [
            "Accuracy: 0.7748917748917749\n",
            "Confusion Matrix:\n",
            "[[140  18]\n",
            " [ 34  39]]\n"
          ]
        }
      ],
      "source": [
        "from sklearn.metrics import accuracy_score, confusion_matrix\n",
        "\n",
        "#accuracy\n",
        "accuracy = accuracy_score(y_test,y_pred )\n",
        "print(\"Accuracy:\", accuracy)\n",
        "\n",
        "#confusion matrix\n",
        "conf_matrix = confusion_matrix(y_test,y_pred)\n",
        "print(\"Confusion Matrix:\")\n",
        "print(conf_matrix)"
      ]
    },
    {
      "cell_type": "markdown",
      "metadata": {
        "id": "382IE9B-QfDw"
      },
      "source": [
        "*ANALYSIS*:\n",
        "We can see that the accuracy score is around 77% which means that our model predicts moderately well the risc for diabetes.\n",
        "We can interpret the confusion matrix as follows: top-left cell (140) represents the True Negatives (TN), meaning the model correctly predicted 140 samples that belong to the negative class, the top-right cell (18) represents the False Positives (FP), indicating that the model incorrectly predicted 18 samples as positive when they actually belong to the negative class, the bottom-left cell (34) represents the False Negatives (FN), meaning the model incorrectly predicted 34 samples as negative when they actually belong to the positive class, the bottom-right cell (39) represents the True Positives (TP), indicating that the model correctly predicted 39 samples that belong to the positive class."
      ]
    },
    {
      "cell_type": "markdown",
      "metadata": {
        "id": "r-G1jh0hQfDw"
      },
      "source": [
        "6. **VISUALIZATION**  Use `plot_tree` from `sklearn.tree` to get the visualization of the tree that you trained. Looking at this representation what can you say about the different columns that you chose for the model. (Which is the most distinguishing one and so on.......)\n"
      ]
    },
    {
      "cell_type": "code",
      "execution_count": 34,
      "metadata": {
        "colab": {
          "base_uri": "https://localhost:8080/",
          "height": 666
        },
        "id": "CB1jK4_2QfDw",
        "outputId": "d878067a-e349-4856-c73c-f958808779c9"
      },
      "outputs": [
        {
          "output_type": "execute_result",
          "data": {
            "text/plain": [
              "[Text(0.5, 0.875, 'glucose <= 127.5\\ngini = 0.462\\nsamples = 536\\nvalue = [342, 194]\\nclass = 0'),\n",
              " Text(0.25, 0.625, 'bmi <= 26.45\\ngini = 0.323\\nsamples = 331\\nvalue = [264, 67]\\nclass = 0'),\n",
              " Text(0.125, 0.375, 'pregnancies <= 8.5\\ngini = 0.042\\nsamples = 93\\nvalue = [91, 2]\\nclass = 0'),\n",
              " Text(0.0625, 0.125, 'gini = 0.023\\nsamples = 87\\nvalue = [86, 1]\\nclass = 0'),\n",
              " Text(0.1875, 0.125, 'gini = 0.278\\nsamples = 6\\nvalue = [5, 1]\\nclass = 0'),\n",
              " Text(0.375, 0.375, 'glucose <= 100.5\\ngini = 0.397\\nsamples = 238\\nvalue = [173, 65]\\nclass = 0'),\n",
              " Text(0.3125, 0.125, 'gini = 0.201\\nsamples = 97\\nvalue = [86, 11]\\nclass = 0'),\n",
              " Text(0.4375, 0.125, 'gini = 0.473\\nsamples = 141\\nvalue = [87, 54]\\nclass = 0'),\n",
              " Text(0.75, 0.625, 'bmi <= 29.85\\ngini = 0.471\\nsamples = 205\\nvalue = [78, 127]\\nclass = 1'),\n",
              " Text(0.625, 0.375, 'glucose <= 166.5\\ngini = 0.415\\nsamples = 51\\nvalue = [36, 15]\\nclass = 0'),\n",
              " Text(0.5625, 0.125, 'gini = 0.337\\nsamples = 42\\nvalue = [33, 9]\\nclass = 0'),\n",
              " Text(0.6875, 0.125, 'gini = 0.444\\nsamples = 9\\nvalue = [3, 6]\\nclass = 1'),\n",
              " Text(0.875, 0.375, 'glucose <= 154.5\\ngini = 0.397\\nsamples = 154\\nvalue = [42, 112]\\nclass = 1'),\n",
              " Text(0.8125, 0.125, 'gini = 0.483\\nsamples = 76\\nvalue = [31, 45]\\nclass = 1'),\n",
              " Text(0.9375, 0.125, 'gini = 0.242\\nsamples = 78\\nvalue = [11, 67]\\nclass = 1')]"
            ]
          },
          "metadata": {},
          "execution_count": 34
        },
        {
          "output_type": "display_data",
          "data": {
            "text/plain": [
              "<Figure size 640x480 with 1 Axes>"
            ],
            "image/png": "[encoded data removed]"
          },
          "metadata": {}
        }
      ],
      "source": [
        "from sklearn.tree import plot_tree\n",
        "class_names = [str(label) for label in clf.classes_]\n",
        "\n",
        "# Plot the decision tree with class labels and feature names\n",
        "plot_tree(clf, feature_names=X_train.columns, class_names=class_names, filled=True, rounded=True)\n",
        "\n"
      ]
    },
    {
      "cell_type": "markdown",
      "metadata": {
        "id": "g9kY_nuZQfDw"
      },
      "source": [
        "ANALYSIS: The columns that are the most influencial for our model as we can observe from the decision tree are glucose, bmi and pregnancies. However, the most distinguishing one is glucose as it appears at the root of the decision tree and is splitting the data in four instances,suggesting that it provides valuable information for distinguishing between different classes."
      ]
    },
    {
      "cell_type": "markdown",
      "metadata": {
        "id": "6GHhZ9ejQfDx"
      },
      "source": [
        "#### BONUS\n",
        "\n",
        "The following part is a bonus for some extra points.\n",
        "\n",
        "##### RANDOM FORESTS\n",
        "\n",
        "Random forests is a supervised learning algorithm. It is the most flexible and easy to use algorithm.\n",
        "\n",
        "A forest is comprised of trees. It is said that the more trees it has, the more robust a forest is.\n",
        "Random forests creates decision trees on randomly selected data samples, gets prediction from each\n",
        "tree and selects the best solution by means of voting. It also provides a pretty good indicator of the\n",
        "feature importance.\n",
        "\n",
        "\n",
        "1. Using `RandomForestClassifier` from `sklearn.ensemble` train the same data as you did for the Decision tree.\n",
        "\n",
        "2. Evaluate this model when compared to the decision tree. What can you say about the final performance of the two models?"
      ]
    },
    {
      "cell_type": "markdown",
      "metadata": {
        "id": "463K6l0BQfDx"
      },
      "source": []
    }
  ],
  "metadata": {
    "kernelspec": {
      "display_name": "Python 3",
      "language": "python",
      "name": "python3"
    },
    "language_info": {
      "codemirror_mode": {
        "name": "ipython",
        "version": 3
      },
      "file_extension": ".py",
      "mimetype": "text/x-python",
      "name": "python",
      "nbconvert_exporter": "python",
      "pygments_lexer": "ipython3",
      "version": "3.10.12"
    },
    "colab": {
      "provenance": []
    }
  },
  "nbformat": 4,
  "nbformat_minor": 0
}