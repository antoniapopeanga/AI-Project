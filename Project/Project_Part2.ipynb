{
  "cells": [
    {
      "cell_type": "markdown",
      "metadata": {
        "id": "k2ZuNdmkhY8B"
      },
      "source": [
        "# Artificial Intelligence\n",
        "## L2 International, Univ. Bordeaux"
      ]
    },
    {
      "cell_type": "markdown",
      "metadata": {
        "id": "JOj7k5KFhY8C"
      },
      "source": [
        "### Supervised Learning : Artificial Neural Networks\n",
        "\n",
        "Recall that an artificial neural network (ANN for short) consists of a set of layers disposed linearly, and each layer is a set of (artificial) neurons. The model is simplified so that signals can only circulate from the bottom layer to the top layer. Each neuron in the $k$-th layer of the neural network is connected to all the neurons in the $(k − 1)$-th layer, and the neurons in a given layer are all independent from each other.\n",
        "\n",
        "A neural network consists of the following components\n",
        "\n",
        "   - An input layer, $x$\n",
        "    \n",
        "   - An arbitrary amount of hidden layers\n",
        "    \n",
        "   - An output layer, $y$\n",
        "    \n",
        "   - A set of weights and biases between each layer, $w$ and $b$\n",
        "\n",
        "   - A choice of activation function for each hidden layer, $\\sigma$."
      ]
    },
    {
      "cell_type": "markdown",
      "metadata": {
        "id": "BgJzLenzhY8D"
      },
      "source": [
        "#### Project Description\n",
        "\n",
        "This will be the Part 2 of your project for the evaluation of this course. Make sure to add the code and analysis for each of the tasks given. Take care to write clean and commented code and to add titles, labels will displaying figures.\n",
        "In this work we will use the MNIST (Modified National Institute of Standards and Technology database) dataset. You do not need to download it as it is available with the `keras` library using `tensorflow`.\n",
        "\n",
        "The main goals of the project will be to train a basic ANN for the classification of the data. There are some parameters that need to be specified during the learning called *Hyper Parameters* which you will have to try out a few values of and do the analyis of how it affects the final performance of the model. Analysis of the architecture of the ANN, the hyper parameters used and the final evaluation will be the primary goals for this project.\n",
        "\n",
        "1. Similar to the previous labs the first task is to import the necessary libraries like: `matplotlib`, `numpy`, `tensorflow`\n",
        "\n",
        "Hint: It is common practice to load the `tensorflow` library with the alias `tf` (similar to `pd` or `np` for pandas or numpy)"
      ]
    },
    {
      "cell_type": "code",
      "execution_count": null,
      "metadata": {
        "id": "wdgNacWlhY8E"
      },
      "outputs": [],
      "source": [
        "import matplotlib.pyplot as plt\n",
        "import numpy as np\n",
        "import tensorflow as tf"
      ]
    },
    {
      "cell_type": "markdown",
      "metadata": {
        "id": "EXtBaPQNhY8E"
      },
      "source": [
        "2. a. Load the `mnist` dataset from `tf.keras.datasets` . Check the use of the `load_data()` function to load the `train` and `test` samples (`X`) along with thier labels (`Y`) [CODE]\n",
        "b. Check the shapes of the train samples and labels and comment of what the dimensions represent. [ANALYSIS]\n",
        "c. Visualize a single image from the train set. Use the correspongding label as the title for the image that you display\n",
        "\n",
        "BONUS: Try to get one image per digit (0-9) and display it as an image grid (You can use `matplotlib` or `opencv`)  [OPTIONAL]"
      ]
    },
    {
      "cell_type": "code",
      "execution_count": null,
      "metadata": {
        "colab": {
          "base_uri": "https://localhost:8080/",
          "height": 1000
        },
        "id": "bslIb2KehY8E",
        "outputId": "006c8c16-1763-4a8a-908a-50f986830887"
      },
      "outputs": [
        {
          "output_type": "stream",
          "name": "stdout",
          "text": [
            "Train images shape: (60000, 28, 28)\n",
            "Train labels shape: (60000,)\n",
            "Test images shape: (10000, 28, 28)\n",
            "Test labels shape: (10000,)\n"
          ]
        },
        {
          "output_type": "display_data",
          "data": {
            "text/plain": [
              "<Figure size 640x480 with 1 Axes>"
            ],
            "image/png": "[encoded data removed]"
          },
          "metadata": {}
        },
        {
          "output_type": "display_data",
          "data": {
            "text/plain": [
              "<Figure size 640x480 with 1 Axes>"
            ],
            "image/png": "[encoded data removed]"
          },
          "metadata": {}
        },
        {
          "output_type": "display_data",
          "data": {
            "text/plain": [
              "<Figure size 640x480 with 1 Axes>"
            ],
            "image/png": "[encoded data removed]"
          },
          "metadata": {}
        },
        {
          "output_type": "display_data",
          "data": {
            "text/plain": [
              "<Figure size 640x480 with 1 Axes>"
            ],
            "image/png": "[encoded data removed]"
          },
          "metadata": {}
        },
        {
          "output_type": "display_data",
          "data": {
            "text/plain": [
              "<Figure size 640x480 with 1 Axes>"
            ],
            "image/png": "[encoded data removed]"
          },
          "metadata": {}
        },
        {
          "output_type": "display_data",
          "data": {
            "text/plain": [
              "<Figure size 640x480 with 1 Axes>"
            ],
            "image/png": "[encoded data removed]"
          },
          "metadata": {}
        },
        {
          "output_type": "display_data",
          "data": {
            "text/plain": [
              "<Figure size 640x480 with 1 Axes>"
            ],
            "image/png": "[encoded data removed]"
          },
          "metadata": {}
        },
        {
          "output_type": "display_data",
          "data": {
            "text/plain": [
              "<Figure size 640x480 with 1 Axes>"
            ],
            "image/png": "[encoded data removed]"
          },
          "metadata": {}
        },
        {
          "output_type": "display_data",
          "data": {
            "text/plain": [
              "<Figure size 640x480 with 1 Axes>"
            ],
            "image/png": "[encoded data removed]"
          },
          "metadata": {}
        },
        {
          "output_type": "display_data",
          "data": {
            "text/plain": [
              "<Figure size 640x480 with 1 Axes>"
            ],
            "image/png": "[encoded data removed]"
          },
          "metadata": {}
        },
        {
          "output_type": "display_data",
          "data": {
            "text/plain": [
              "<Figure size 1000x500 with 10 Axes>"
            ],
            "image/png": "[encoded data removed]"
          },
          "metadata": {}
        }
      ],
      "source": [
        "\n",
        "#a)\n",
        "# Load the MNIST dataset\n",
        "(train_images, train_labels), (test_images, test_labels) = tf.keras.datasets.mnist.load_data()\n",
        "\n",
        "# Check the shapes of the train samples and labels\n",
        "print(f\"Train images shape: {train_images.shape}\")\n",
        "print(f\"Train labels shape: {train_labels.shape}\")\n",
        "print(f\"Test images shape: {test_images.shape}\")\n",
        "print(f\"Test labels shape: {test_labels.shape}\")\n",
        "\n",
        "for i in range(9):\n",
        "    plt.subplot(330 + 1 + i)\n",
        "    plt.imshow(train_images[i], cmap=plt.get_cmap('gray'))\n",
        "    plt.show()\n",
        "#b) display one image\n",
        "\n",
        "image_index = 25\n",
        "\n",
        "# Display the image\n",
        "plt.imshow(train_images[image_index], cmap='gray')\n",
        "plt.title(f\"Label: {train_labels[image_index]}\")\n",
        "plt.axis('off')  # Hide axes\n",
        "plt.show()\n",
        "\n",
        "#c)\n",
        "# Display the image\n",
        "# Create a dictionary to store one image per digit\n",
        "digit_images = {i: None for i in range(10)}\n",
        "\n",
        "# Find the first occurrence of each digit\n",
        "for i in range(len(train_labels)):\n",
        "    label = train_labels[i]\n",
        "    if digit_images[label] is None:\n",
        "        digit_images[label] = train_images[i]\n",
        "\n",
        "# Create a 2x5 grid to display the images\n",
        "fig, axs = plt.subplots(2, 5, figsize=(10, 5))\n",
        "fig.suptitle(\"MNIST Digit Examples\", fontsize=16)\n",
        "\n",
        "for i in range(10):\n",
        "    ax = axs[i // 5, i % 5]\n",
        "    ax.imshow(digit_images[i], cmap='gray')\n",
        "    ax.set_title(f\"Digit {i}\")\n",
        "    ax.axis('off')\n",
        "\n",
        "plt.show()\n",
        "\n"
      ]
    },
    {
      "cell_type": "markdown",
      "metadata": {
        "id": "JlKttCg6hY8F"
      },
      "source": [
        "ANALYSIS\n",
        "\n",
        "The train_images array has a shape of (60000, 28, 28). The 60000 represents the number of training samples, 28 the number of rows of each image and 28 the number of columns.\n",
        "\n",
        "The train_labels array has a shape of (60000,).\n",
        "Each label corresponds to a specific digit (0 to 9) for the corresponding image in the train_images array."
      ]
    },
    {
      "cell_type": "markdown",
      "metadata": {
        "id": "9c04NPO9hY8F"
      },
      "source": [
        "3. **DATA PREPROCESSING**: As we are going to be using a simple ANN we cannot use the images as is (they are in their 2D representation). Thus, you will have to `reshape` them into a single vector. [Hint remember the what you did with KNN when you found the total number of pixels and reshaped]\n",
        "\n",
        "Reshape both the train and the test dataset\n",
        "Also, remember that we have to do normalization of the pixels values"
      ]
    },
    {
      "cell_type": "code",
      "execution_count": null,
      "metadata": {
        "colab": {
          "base_uri": "https://localhost:8080/"
        },
        "id": "nNYWGDychY8F",
        "outputId": "27631842-63ff-4c41-bccf-ef0731c60cc2"
      },
      "outputs": [
        {
          "output_type": "stream",
          "name": "stdout",
          "text": [
            "Train images (flattened) shape: (60000, 784)\n",
            "Test images (flattened) shape: (10000, 784)\n"
          ]
        }
      ],
      "source": [
        "# Reshape train and test images and labels\n",
        "train_images_flat = train_images.reshape(train_images.shape[0], 28 * 28).astype(\"float32\")\n",
        "test_images_flat = test_images.reshape(test_images.shape[0], 28 * 28).astype(\"float32\")\n",
        "train_labels = train_labels.reshape(train_labels.shape[0], 1).astype(\"float32\")\n",
        "test_labels = test_labels.reshape(test_labels.shape[0], 1).astype(\"float32\")\n",
        "\n",
        "# Check the new shapes\n",
        "print(f\"Train images (flattened) shape: {train_images_flat.shape}\")\n",
        "print(f\"Test images (flattened) shape: {test_images_flat.shape}\")\n",
        "\n",
        "# Normalize pixel values\n",
        "train_images_normalized = train_images_flat / 255\n",
        "test_images_normalized = test_images_flat / 255\n",
        "\n",
        "\n",
        "\n"
      ]
    },
    {
      "cell_type": "markdown",
      "metadata": {
        "id": "Dai7aytehY8F"
      },
      "source": [
        "**Label Encoding** : We also use \"one-hot\" encoding to encode the classes from a single number to a representation of 10 digits such that there is a one at the position where the label is present."
      ]
    },
    {
      "cell_type": "code",
      "execution_count": null,
      "metadata": {
        "id": "3slESEumhY8F"
      },
      "outputs": [],
      "source": [
        "\n",
        "# Here the command is given for the train data. Do the same for the test array too\n",
        "train_labels = tf.keras.utils.to_categorical(train_labels, num_classes=None, dtype='float32')\n",
        "test_labels= tf.keras.utils.to_categorical(test_labels, num_classes=None, dtype='float32')\n",
        "\n"
      ]
    },
    {
      "cell_type": "markdown",
      "metadata": {
        "id": "03eZfb58hY8F"
      },
      "source": [
        "4. **Building the Model**:\n",
        "\n",
        "\n",
        "Building the network requires configuring the layers of the model, then compiling the model.\n",
        "\n",
        "Before the model is ready for training, it needs a few more settings. These are added during the model's [*compile*](https://www.tensorflow.org/api_docs/python/tf/keras/Model#compile) step:\n",
        "\n",
        "* [*Optimizer*](https://www.tensorflow.org/api_docs/python/tf/keras/optimizers) —This is how the model is updated based on the data it sees and its loss function.\n",
        "* [*Loss function*](https://www.tensorflow.org/api_docs/python/tf/keras/losses) —This measures how accurate the model is during training. You want to minimize this function to \"steer\" the model in the right direction.\n",
        "* [*Metrics*](https://www.tensorflow.org/api_docs/python/tf/keras/metrics) —Used to monitor the training and testing steps. The following example uses *accuracy*, the fraction of the images that are correctly classified.\n",
        "\n",
        "\n",
        "**Set up the layers**\n",
        "\n",
        "The basic building block of a neural network is the [*layer*](https://www.tensorflow.org/api_docs/python/tf/keras/layers). Layers extract representations from the data fed into them.\n",
        "\n",
        "The network we build is going to be the chaining together of these simple layers. For example, `tf.keras.layers.Dense` is often quite useful and will have parameters that will be learnt during training (e.g. weights, biases etc.)\n",
        "\n",
        "You can use the given code to create your model. Be careful to give it the correct value for the `num_pixels` when calling the function\n"
      ]
    },
    {
      "cell_type": "code",
      "execution_count": null,
      "metadata": {
        "id": "H0pt9JPDhY8G"
      },
      "outputs": [],
      "source": [
        "#CODE\n",
        "num_classes = 10       #Use the train label array to find how many unique labels are present\n",
        "num_pixels = 748     # Use the height and width of the images to find out how many pixels are there in the image\n",
        "\n",
        "def neural_network(num_pixels):\n",
        "    model = tf.keras.Sequential([\n",
        "        tf.keras.layers.Dense(num_pixels, input_dim=num_pixels, kernel_initializer='normal', activation='relu'),\n",
        "        tf.keras.layers.Dense(num_classes, kernel_initializer='normal', activation='softmax')\n",
        "    ])\n",
        "    model.compile(loss='categorical_crossentropy', optimizer='adam', metrics=['accuracy'])\n",
        "    return model\n"
      ]
    },
    {
      "cell_type": "markdown",
      "metadata": {
        "id": "HH58nV9OhY8G"
      },
      "source": [
        "Use the function to instantiate the model. What do you see at the output? How many parameters are present in your network?"
      ]
    },
    {
      "cell_type": "code",
      "execution_count": null,
      "metadata": {
        "id": "VeAe544PhY8G",
        "colab": {
          "base_uri": "https://localhost:8080/"
        },
        "outputId": "c3afe050-ffef-40ea-fe15-487a5ef9558b"
      },
      "outputs": [
        {
          "output_type": "stream",
          "name": "stdout",
          "text": [
            "Model: \"sequential\"\n",
            "_________________________________________________________________\n",
            " Layer (type)                Output Shape              Param #   \n",
            "=================================================================\n",
            " dense (Dense)               (None, 784)               615440    \n",
            "                                                                 \n",
            " dense_1 (Dense)             (None, 10)                7850      \n",
            "                                                                 \n",
            "=================================================================\n",
            "Total params: 623290 (2.38 MB)\n",
            "Trainable params: 623290 (2.38 MB)\n",
            "Non-trainable params: 0 (0.00 Byte)\n",
            "_________________________________________________________________\n",
            "None\n"
          ]
        }
      ],
      "source": [
        "# CODE\n",
        "model=neural_network(784)            # Create a model with the function\n",
        "print(model.summary())"
      ]
    },
    {
      "cell_type": "markdown",
      "metadata": {
        "id": "2eobBeV8hY8G"
      },
      "source": [
        "ANALYSIS"
      ]
    },
    {
      "cell_type": "markdown",
      "metadata": {
        "id": "OvOCLerEhY8G"
      },
      "source": [
        "5. **Train the model**\n",
        "\n",
        "Training the neural network model requires the following steps:\n",
        "\n",
        "1. Feed the training data to the model.\n",
        "2. The model learns to associate images and labels.\n",
        "3. You ask the model to make predictions about a test set - e.g. a single sample from your test set\n",
        "4. Verify that the predictions match the labels from the corresponding sample of the labels from test set array."
      ]
    },
    {
      "cell_type": "code",
      "execution_count": null,
      "metadata": {
        "id": "fbmEZj9IhY8G",
        "colab": {
          "base_uri": "https://localhost:8080/"
        },
        "outputId": "500156c7-acd8-41e1-e028-4ffb6e672ae8"
      },
      "outputs": [
        {
          "output_type": "stream",
          "name": "stdout",
          "text": [
            "Epoch 1/10\n",
            "1875/1875 [==============================] - 6s 2ms/step - loss: 0.1893 - accuracy: 0.9429\n",
            "Epoch 2/10\n",
            "1875/1875 [==============================] - 4s 2ms/step - loss: 0.0750 - accuracy: 0.9769\n",
            "Epoch 3/10\n",
            "1875/1875 [==============================] - 4s 2ms/step - loss: 0.0479 - accuracy: 0.9850\n",
            "Epoch 4/10\n",
            "1875/1875 [==============================] - 4s 2ms/step - loss: 0.0338 - accuracy: 0.9890\n",
            "Epoch 5/10\n",
            "1875/1875 [==============================] - 4s 2ms/step - loss: 0.0243 - accuracy: 0.9921\n",
            "Epoch 6/10\n",
            "1875/1875 [==============================] - 4s 2ms/step - loss: 0.0207 - accuracy: 0.9932\n",
            "Epoch 7/10\n",
            "1875/1875 [==============================] - 4s 2ms/step - loss: 0.0162 - accuracy: 0.9944\n",
            "Epoch 8/10\n",
            "1875/1875 [==============================] - 4s 2ms/step - loss: 0.0153 - accuracy: 0.9952\n",
            "Epoch 9/10\n",
            "1875/1875 [==============================] - 4s 2ms/step - loss: 0.0107 - accuracy: 0.9962\n",
            "Epoch 10/10\n",
            "1875/1875 [==============================] - 4s 2ms/step - loss: 0.0121 - accuracy: 0.9961\n",
            "313/313 [==============================] - 0s 1ms/step\n"
          ]
        }
      ],
      "source": [
        "#CODE\n",
        "# Hint: Train the model with the .fit function and give the correct inputs (samples and labels), specify the epochs and set the batch_size_\n",
        "\n",
        "# Train the model\n",
        "history = model.fit(train_images_normalized, train_labels, epochs=10, batch_size=32)\n",
        "\n",
        "\n",
        "\n",
        "# Make predictions\n",
        "model_predictions = model.predict(test_images_normalized)\n"
      ]
    },
    {
      "cell_type": "markdown",
      "metadata": {
        "id": "l0FFNNVchY8G"
      },
      "source": [
        "6. **Evaluate the Model**\n",
        "\n",
        "a. Call the `.evaluate()` on your trained model and the score with the test data (samples, labels) and print the scores as accuracy percentage. [CODE]\n",
        "\n",
        "b. Comment on the accuracy get after the training and with the test set. Is it different? [ANALYSIS]\n",
        "\n",
        "c. What do you think could be the reason for this difference?  [ANALYSIS]\n",
        "\n",
        "d. Can you explain in your own words what is *Overfitting* and on how you could quickly identify it by looking at the accuracy on the training and test set?  [ANALYSIS]\n"
      ]
    },
    {
      "cell_type": "code",
      "execution_count": null,
      "metadata": {
        "id": "G9YbVX7lhY8G",
        "colab": {
          "base_uri": "https://localhost:8080/"
        },
        "outputId": "41b510bc-207e-4928-ada1-ba3015328a05"
      },
      "outputs": [
        {
          "output_type": "stream",
          "name": "stdout",
          "text": [
            "313/313 [==============================] - 1s 2ms/step - loss: 0.0819 - accuracy: 0.9818\n",
            "Accuracy on test set: 98.18%\n"
          ]
        }
      ],
      "source": [
        "# Evaluate the model on the test set\n",
        "test_loss, test_accuracy = model.evaluate(test_images_normalized, test_labels)\n",
        "print(\"Accuracy on test set: {:.2f}%\".format(test_accuracy * 100))"
      ]
    },
    {
      "cell_type": "markdown",
      "metadata": {
        "id": "8spnCs9FhY8H"
      },
      "source": [
        "ANALYSIS\n",
        "\n",
        "b. The accuracy on the test set is slightly lower than the accuracy on the training set. On the majority of tests for the training set, we have the accuracy of over 99%, but for the test set is 98.18% .\n",
        "\n",
        "c. During training, the model learns to fit the training data, which might include patterns that are not generalizable to unseen data. The test set acts as a measure of how well the model can generalize to new, unseen data.\n",
        "\n",
        "d. Overfitting occurs when a model learns the training data too well, including noise and irrelevant patterns.If the model's accuracy on the training set is significantly higher than its accuracy on the test set, it suggests overfitting. This indicates that the model has memorized the training data rather than learning the underlying patterns. We can also notice in the train set how the percentage of the accuracy increases rapidly, which indicates that the model learned the patterns of the training data set."
      ]
    },
    {
      "cell_type": "markdown",
      "metadata": {
        "id": "8OfGClgHhY8H"
      },
      "source": [
        "7. **Hyper-parameter Tuning**\n",
        "\n",
        "a. Try to train the model with different values of the hyperparameters: try using a different values for `epochs`, `batch_size`. (You can choose the values). Comment on how it changes the final accuracies\n",
        "\n",
        "b. In the function to create the model you use `optimizier= 'adam'`. By using this you are using default parameters for the optimizier while training. You can modify the function as shown below and try to play around by changing the learning rate of the model to see how it affects you final accuracies. You can try to use a very high value or a very small value to see the effect."
      ]
    },
    {
      "cell_type": "code",
      "execution_count": null,
      "metadata": {
        "id": "zvcc2-fDhY8H",
        "colab": {
          "base_uri": "https://localhost:8080/"
        },
        "outputId": "dfc0abf0-c815-4057-ba11-ca0196660976"
      },
      "outputs": [
        {
          "output_type": "stream",
          "name": "stdout",
          "text": [
            "Epochs: 20, Batch Size: 32, Test Accuracy: 98.36%\n",
            "Epochs: 20, Batch Size: 64, Test Accuracy: 98.27%\n",
            "Epochs: 20, Batch Size: 128, Test Accuracy: 98.51%\n",
            "Epochs: 20, Batch Size: 256, Test Accuracy: 98.27%\n",
            "Epochs: 15, Batch Size: 32, Test Accuracy: 98.18%\n",
            "Epochs: 15, Batch Size: 64, Test Accuracy: 98.11%\n",
            "Epochs: 15, Batch Size: 128, Test Accuracy: 97.80%\n",
            "Epochs: 15, Batch Size: 256, Test Accuracy: 98.26%\n",
            "Epochs: 10, Batch Size: 32, Test Accuracy: 97.95%\n",
            "Epochs: 10, Batch Size: 64, Test Accuracy: 97.98%\n",
            "Epochs: 10, Batch Size: 128, Test Accuracy: 98.12%\n",
            "Epochs: 10, Batch Size: 256, Test Accuracy: 98.13%\n"
          ]
        }
      ],
      "source": [
        "# CODE TO tune epochs and batch_size (set up atleast 2 values)\n",
        "epochs_values = [20,15, 10]  # Example values\n",
        "batch_size_values = [32, 64, 128,256]  # Example values\n",
        "\n",
        "# Here you can set up two separate for loops to check the effect of the values of epochs and batch_size separately. Or you can also use nested loops to check the combinations of these parameters on the output\n",
        "\n",
        "for epochs in epochs_values:\n",
        "    for batch_size in batch_size_values:\n",
        "        # Train the model with different hyperparameters\n",
        "        model = neural_network(28*28)\n",
        "        model.fit(train_images_normalized, train_labels, epochs=epochs, batch_size=batch_size, verbose=0)\n",
        "\n",
        "        # Evaluate the model after training\n",
        "        test_loss, test_acc = model.evaluate(test_images_normalized, test_labels, verbose=0)\n",
        "\n",
        "        # Print information about the hyperparameters and final accuracy\n",
        "        print(\"Epochs: {}, Batch Size: {}, Test Accuracy: {:.2f}%\".format(epochs, batch_size, test_acc * 100))\n"
      ]
    },
    {
      "cell_type": "markdown",
      "metadata": {
        "id": "R5yj7DlThY8H"
      },
      "source": [
        "ANALYSIS\n",
        "\n",
        "Generally, increasing the number of epochs led to higher test accuracies across all batch sizes. This indicates that the model benefits from more training iterations to better learn the patterns in the data.\n",
        "\n",
        "\n",
        "The combination of 20 epochs and a batch size of 128 produced the highest test accuracy of 98.51%. This suggests that a moderate number of epochs combined with a moderate batch size can lead to optimal performance.\n",
        "Generally, batch sizes of 128 or 256 yielded higher test accuracies compared to smaller batch sizes when paired with a higher number of epochs.\n",
        "\n",
        "Increasing the number of epochs may lead to better performance, but it also increases training time and the risk of overfitting.\n",
        "\n",
        "\n",
        "\n",
        "\n",
        "\n",
        "\n"
      ]
    },
    {
      "cell_type": "markdown",
      "metadata": {
        "id": "WzBusnllhY8H"
      },
      "source": [
        "**Bonus** [OPTIONAL] -\n",
        "\n",
        "Try to use a very high value of epochs and check if the train accuracies and the test accuracies are close or farther away? Does it overfit?"
      ]
    },
    {
      "cell_type": "code",
      "execution_count": null,
      "metadata": {
        "id": "1GSIhtjzhY8H"
      },
      "outputs": [],
      "source": [
        "# Change the learning rate of the adam opitmizer by giving it different values in the function\n",
        "lr_values = []\n",
        "\n",
        "\n",
        "def neural_network(num_pixels, lr):\n",
        "    model = tf.keras.Sequential([\n",
        "        tf.keras.layers.Dense(num_pixels, input_dim=num_pixels, kernel_initializer='normal', activation='relu'),\n",
        "        tf.keras.layers.Dense(num_classes, kernel_initializer='normal', activation='softmax')\n",
        "    ])\n",
        "    opt = tf.keras.optimizers.Adam(learning_rate=lr) # here is where the function is defined first. There are other parameters available which we will not use at the moment\n",
        "    model.compile(loss='categorical_crossentropy', optimizer=opt, metrics=['accuracy'])\n",
        "    return model\n",
        "\n",
        "\n",
        "# Use this function for 3 values of lr and train the models with these different learning rates and comment on how the final accuracy changes\n",
        "for lr in lr_values:\n",
        "    model = neural_network(num_pixels, lr)\n",
        "    # Call the model.fit and model.evalute one after the other\n",
        "    # Print the final accuracies"
      ]
    },
    {
      "cell_type": "markdown",
      "metadata": {
        "id": "nDB3OGsQhY8H"
      },
      "source": [
        "ANALYSIS\n",
        "\n",
        "Comment on how the different lr affect the final accuracies."
      ]
    },
    {
      "cell_type": "markdown",
      "metadata": {
        "id": "5JD2PlSNhY8H"
      },
      "source": []
    },
    {
      "cell_type": "markdown",
      "metadata": {
        "id": "3b78SNzphY8H"
      },
      "source": [
        "#### BONUS: Extra Information that might be interesting\n",
        "\n",
        "**Getting Prediction from a trained model and its Visualization**\n",
        "\n",
        "The scores at the end of the trained model are not well normalized. The softmax function is something that can convert it to a value of probabilities.\n",
        "Attach a softmax layer to convert the model's linear outputs—[logits](https://developers.google.com/machine-learning/glossary#logits)—to probabilities, which should be easier to interpret, we can get the predictions from the model.\n",
        "\n",
        "If you run the following code you get an array of values. Can you guess what this is?"
      ]
    },
    {
      "cell_type": "code",
      "execution_count": null,
      "metadata": {
        "id": "swGW3rLxhY8H"
      },
      "outputs": [],
      "source": [
        "probability_model = tf.keras.Sequential([model,\n",
        "                                         tf.keras.layers.Softmax()])\n",
        "\n",
        "predictions = probability_model.predict(test_images)\n",
        "print(predictions[0])"
      ]
    },
    {
      "cell_type": "markdown",
      "metadata": {
        "id": "avxpe3GmhY8I"
      },
      "source": [
        "As we have converted the scores to probabilties these numbers can be interpreted as the \"confidence\" of the model for that label. So what should you do the \"most-confident\" answer as the predicted label by the model?\n",
        "\n",
        "Get the corresponding label for the sample at 0 from the label array and see if they match or not and comment if the model make a correct prediction or not"
      ]
    },
    {
      "cell_type": "code",
      "execution_count": null,
      "metadata": {
        "id": "jLs_J85NhY8I"
      },
      "outputs": [],
      "source": [
        "# CODE\n",
        "# Hint: from the predictions[0] you need to extract the label that has the \"most-confidence\" and that would be interpreted as the prediction by the model"
      ]
    },
    {
      "cell_type": "code",
      "execution_count": null,
      "metadata": {
        "id": "Lzy7wG1_hY8I"
      },
      "outputs": [],
      "source": [
        "# Plot the first X test images, their predicted labels, and the true labels.\n",
        "num_rows = 5\n",
        "num_cols = 3\n",
        "num_images = num_rows*num_cols\n",
        "plt.figure(figsize=(2*2*num_cols, 2*num_rows))\n",
        "for i in range(num_images):\n",
        "  plt.subplot(num_rows, 2*num_cols, 2*i+1) # Useful to make multiple plots (grid)\n",
        "  plot_image(i, predictions[i], #label array, #image array ) # Update this block before you run the cell\n",
        "  plt.subplot(num_rows, 2*num_cols, 2*i+2)\n",
        "  plot_value_array(i, predictions[i], test_labels)\n",
        "plt.tight_layout()\n",
        "plt.show()"
      ]
    },
    {
      "cell_type": "markdown",
      "metadata": {
        "id": "-oR46j6zhY8I"
      },
      "source": []
    },
    {
      "cell_type": "markdown",
      "metadata": {
        "id": "W6-Tb-XshY8I"
      },
      "source": [
        "Some references that might be useful:\n",
        "\n",
        "1. https://www.tensorflow.org/tutorials/keras/classification\n",
        "2. https://www.tensorflow.org/api_docs/python/tf/keras/datasets\n",
        "3. https://www.tensorflow.org/datasets/keras_example\n",
        "\n",
        "\n",
        "In addition to using tensorflow there is also another framework called  [PyTorch](https://pytorch.org/). It has a very Pythonic approach to coding and is also quite popular along with TensorFlow"
      ]
    },
    {
      "cell_type": "markdown",
      "metadata": {
        "id": "DNAXbEUhhY8I"
      },
      "source": [
        "You can also set the first layer of your model using the `Flatten` layer from tensorflow so you will then not need to do the reshaping of your arrays but it will handled by the model itself. Example:\n"
      ]
    },
    {
      "cell_type": "code",
      "execution_count": null,
      "metadata": {
        "id": "5mySfIB9hY8I"
      },
      "outputs": [],
      "source": [
        "model = tf.keras.Sequential([\n",
        "    tf.keras.layers.Flatten(input_shape=(28, 28)),  #Here you only have to specify the correct height and width of your input and the framework does the reshape for you automatically\n",
        "    tf.keras.layers.Dense(128, activation='relu'),\n",
        "    tf.keras.layers.Dense(num_classes)\n",
        "])"
      ]
    }
  ],
  "metadata": {
    "kernelspec": {
      "display_name": "Python 3",
      "name": "python3"
    },
    "language_info": {
      "codemirror_mode": {
        "name": "ipython",
        "version": 3
      },
      "file_extension": ".py",
      "mimetype": "text/x-python",
      "name": "python",
      "nbconvert_exporter": "python",
      "pygments_lexer": "ipython3",
      "version": "3.10.12"
    },
    "colab": {
      "provenance": [],
      "machine_shape": "hm",
      "gpuType": "T4"
    },
    "accelerator": "GPU"
  },
  "nbformat": 4,
  "nbformat_minor": 0
}